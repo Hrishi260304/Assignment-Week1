{
 "cells": [
  {
   "cell_type": "markdown",
   "id": "5a294451-2994-4f6b-a686-44d619d43678",
   "metadata": {},
   "source": [
    "# Create lower triangular, upper triangular and pyramid containing the \"*\" character."
   ]
  },
  {
   "cell_type": "markdown",
   "id": "b30c77aa-1858-49b4-b990-8789bf30058d",
   "metadata": {},
   "source": [
    "# Lower Triangle Pattern"
   ]
  },
  {
   "cell_type": "code",
   "execution_count": 9,
   "id": "d82ef936-30c3-4131-b93e-8ad7e6e9c9a8",
   "metadata": {},
   "outputs": [],
   "source": [
    "def lower_triangular(n):\n",
    "    print(\"Lower Triangular Pattern:\")\n",
    "    for i in range(1, n + 1):\n",
    "        print(\"* \" * i)\n",
    "    print()"
   ]
  },
  {
   "cell_type": "markdown",
   "id": "6a9d6451-ca36-4ee0-8788-7425d7aac598",
   "metadata": {},
   "source": [
    "# Upper Triangle Pattern"
   ]
  },
  {
   "cell_type": "code",
   "execution_count": 10,
   "id": "e1410044-b56b-44a2-a416-28e57490b55e",
   "metadata": {},
   "outputs": [],
   "source": [
    "def upper_triangular(n):\n",
    "    print(\"Upper Triangular Pattern:\")\n",
    "    for i in range(n, 0, -1):\n",
    "        spaces = \"  \" * (n - i)\n",
    "        stars = \"* \" * i\n",
    "        print(spaces + stars)\n",
    "    print()"
   ]
  },
  {
   "cell_type": "markdown",
   "id": "fb181165-de73-410e-9504-923a7e030fd3",
   "metadata": {},
   "source": [
    "# Pyramid Pattern"
   ]
  },
  {
   "cell_type": "code",
   "execution_count": 13,
   "id": "b1398314-d941-41e7-a030-7556ea3a3dc1",
   "metadata": {},
   "outputs": [],
   "source": [
    "def pyramid(n):\n",
    "    print(\"Pyramid Pattern:\")\n",
    "    for i in range(1, n + 1):\n",
    "        print(' ' * (n - i) + '*' * (2 * i - 1))"
   ]
  },
  {
   "cell_type": "code",
   "execution_count": 14,
   "id": "549e2f59-005e-438a-b746-68e603cf74ea",
   "metadata": {},
   "outputs": [
    {
     "name": "stdout",
     "output_type": "stream",
     "text": [
      "Lower Triangular Pattern:\n",
      "* \n",
      "* * \n",
      "* * * \n",
      "* * * * \n",
      "* * * * * \n",
      "\n",
      "Upper Triangular Pattern:\n",
      "* * * * * \n",
      "  * * * * \n",
      "    * * * \n",
      "      * * \n",
      "        * \n",
      "\n",
      "Pyramid Pattern:\n",
      "    *\n",
      "   ***\n",
      "  *****\n",
      " *******\n",
      "*********\n"
     ]
    }
   ],
   "source": [
    "# Set the number of rows\n",
    "rows = 5\n",
    "\n",
    "# Call the functions\n",
    "lower_triangular(rows)\n",
    "upper_triangular(rows)\n",
    "pyramid(rows)"
   ]
  },
  {
   "cell_type": "code",
   "execution_count": null,
   "id": "747ace13-e467-420b-a216-fa4deace9e06",
   "metadata": {},
   "outputs": [],
   "source": []
  }
 ],
 "metadata": {
  "kernelspec": {
   "display_name": "Python 3 (ipykernel)",
   "language": "python",
   "name": "python3"
  },
  "language_info": {
   "codemirror_mode": {
    "name": "ipython",
    "version": 3
   },
   "file_extension": ".py",
   "mimetype": "text/x-python",
   "name": "python",
   "nbconvert_exporter": "python",
   "pygments_lexer": "ipython3",
   "version": "3.12.4"
  }
 },
 "nbformat": 4,
 "nbformat_minor": 5
}
